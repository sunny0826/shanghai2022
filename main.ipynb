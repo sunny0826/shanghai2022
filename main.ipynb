{
 "cells": [
  {
   "cell_type": "code",
   "execution_count": 139,
   "metadata": {
    "collapsed": true
   },
   "outputs": [
    {
     "data": {
      "text/plain": "1         时间     合计   普陀    黄浦    徐汇   静安   虹口   杨浦   长宁     浦东    嘉定    松江  \\\n2     3月1日确诊      1    1     0     0    0    0    0    0      0     0     0   \n3    3月1日无症状      1    0     0     0    0    0    0    0      0     1     0   \n4     3月2日确诊      3    3     0     0    0    0    0    0      0     0     0   \n5    3月2日无症状      5    3     0     0    0    0    0    0      0     1     0   \n6     3月3日确诊      2    0     0     0    0    0    0    0      0     0     1   \n..       ...    ...  ...   ...   ...  ...  ...  ...  ...    ...   ...   ...   \n61  3月30日无症状   5298  140   345   389   94   83   97  120   1958   149   238   \n62   3月31日确诊    358    6     7    20    4    8    5   43    180     7     5   \n63  3月31日无症状   4144    9   114   206  160  120  169  213   2227    47   179   \n64    3月总计确诊   1545   36    46   118   55   29   14   65    745    69    39   \n65   3月总计无症状  35096  715  1478  3099  965  517  562  707  13726  1916  1338   \n\n1     闵行    宝山   青浦   奉贤   金山   崇明  \n2      0     0    0    0    0    0  \n3      0     0    0    0    0    0  \n4      0     0    0    0    0    0  \n5      0     1    0    0    0    0  \n6      1     0    0    0    0    0  \n..   ...   ...  ...  ...  ...  ...  \n61   761   503   72  123   33  193  \n62    59     4    1    5    3    1  \n63   333    13   94  178   39   43  \n64   217    68   11   17   11    5  \n65  5958  1768  482  747  225  891  \n\n[64 rows x 18 columns]",
      "text/html": "<div>\n<style scoped>\n    .dataframe tbody tr th:only-of-type {\n        vertical-align: middle;\n    }\n\n    .dataframe tbody tr th {\n        vertical-align: top;\n    }\n\n    .dataframe thead th {\n        text-align: right;\n    }\n</style>\n<table border=\"1\" class=\"dataframe\">\n  <thead>\n    <tr style=\"text-align: right;\">\n      <th>1</th>\n      <th>时间</th>\n      <th>合计</th>\n      <th>普陀</th>\n      <th>黄浦</th>\n      <th>徐汇</th>\n      <th>静安</th>\n      <th>虹口</th>\n      <th>杨浦</th>\n      <th>长宁</th>\n      <th>浦东</th>\n      <th>嘉定</th>\n      <th>松江</th>\n      <th>闵行</th>\n      <th>宝山</th>\n      <th>青浦</th>\n      <th>奉贤</th>\n      <th>金山</th>\n      <th>崇明</th>\n    </tr>\n  </thead>\n  <tbody>\n    <tr>\n      <th>2</th>\n      <td>3月1日确诊</td>\n      <td>1</td>\n      <td>1</td>\n      <td>0</td>\n      <td>0</td>\n      <td>0</td>\n      <td>0</td>\n      <td>0</td>\n      <td>0</td>\n      <td>0</td>\n      <td>0</td>\n      <td>0</td>\n      <td>0</td>\n      <td>0</td>\n      <td>0</td>\n      <td>0</td>\n      <td>0</td>\n      <td>0</td>\n    </tr>\n    <tr>\n      <th>3</th>\n      <td>3月1日无症状</td>\n      <td>1</td>\n      <td>0</td>\n      <td>0</td>\n      <td>0</td>\n      <td>0</td>\n      <td>0</td>\n      <td>0</td>\n      <td>0</td>\n      <td>0</td>\n      <td>1</td>\n      <td>0</td>\n      <td>0</td>\n      <td>0</td>\n      <td>0</td>\n      <td>0</td>\n      <td>0</td>\n      <td>0</td>\n    </tr>\n    <tr>\n      <th>4</th>\n      <td>3月2日确诊</td>\n      <td>3</td>\n      <td>3</td>\n      <td>0</td>\n      <td>0</td>\n      <td>0</td>\n      <td>0</td>\n      <td>0</td>\n      <td>0</td>\n      <td>0</td>\n      <td>0</td>\n      <td>0</td>\n      <td>0</td>\n      <td>0</td>\n      <td>0</td>\n      <td>0</td>\n      <td>0</td>\n      <td>0</td>\n    </tr>\n    <tr>\n      <th>5</th>\n      <td>3月2日无症状</td>\n      <td>5</td>\n      <td>3</td>\n      <td>0</td>\n      <td>0</td>\n      <td>0</td>\n      <td>0</td>\n      <td>0</td>\n      <td>0</td>\n      <td>0</td>\n      <td>1</td>\n      <td>0</td>\n      <td>0</td>\n      <td>1</td>\n      <td>0</td>\n      <td>0</td>\n      <td>0</td>\n      <td>0</td>\n    </tr>\n    <tr>\n      <th>6</th>\n      <td>3月3日确诊</td>\n      <td>2</td>\n      <td>0</td>\n      <td>0</td>\n      <td>0</td>\n      <td>0</td>\n      <td>0</td>\n      <td>0</td>\n      <td>0</td>\n      <td>0</td>\n      <td>0</td>\n      <td>1</td>\n      <td>1</td>\n      <td>0</td>\n      <td>0</td>\n      <td>0</td>\n      <td>0</td>\n      <td>0</td>\n    </tr>\n    <tr>\n      <th>...</th>\n      <td>...</td>\n      <td>...</td>\n      <td>...</td>\n      <td>...</td>\n      <td>...</td>\n      <td>...</td>\n      <td>...</td>\n      <td>...</td>\n      <td>...</td>\n      <td>...</td>\n      <td>...</td>\n      <td>...</td>\n      <td>...</td>\n      <td>...</td>\n      <td>...</td>\n      <td>...</td>\n      <td>...</td>\n      <td>...</td>\n    </tr>\n    <tr>\n      <th>61</th>\n      <td>3月30日无症状</td>\n      <td>5298</td>\n      <td>140</td>\n      <td>345</td>\n      <td>389</td>\n      <td>94</td>\n      <td>83</td>\n      <td>97</td>\n      <td>120</td>\n      <td>1958</td>\n      <td>149</td>\n      <td>238</td>\n      <td>761</td>\n      <td>503</td>\n      <td>72</td>\n      <td>123</td>\n      <td>33</td>\n      <td>193</td>\n    </tr>\n    <tr>\n      <th>62</th>\n      <td>3月31日确诊</td>\n      <td>358</td>\n      <td>6</td>\n      <td>7</td>\n      <td>20</td>\n      <td>4</td>\n      <td>8</td>\n      <td>5</td>\n      <td>43</td>\n      <td>180</td>\n      <td>7</td>\n      <td>5</td>\n      <td>59</td>\n      <td>4</td>\n      <td>1</td>\n      <td>5</td>\n      <td>3</td>\n      <td>1</td>\n    </tr>\n    <tr>\n      <th>63</th>\n      <td>3月31日无症状</td>\n      <td>4144</td>\n      <td>9</td>\n      <td>114</td>\n      <td>206</td>\n      <td>160</td>\n      <td>120</td>\n      <td>169</td>\n      <td>213</td>\n      <td>2227</td>\n      <td>47</td>\n      <td>179</td>\n      <td>333</td>\n      <td>13</td>\n      <td>94</td>\n      <td>178</td>\n      <td>39</td>\n      <td>43</td>\n    </tr>\n    <tr>\n      <th>64</th>\n      <td>3月总计确诊</td>\n      <td>1545</td>\n      <td>36</td>\n      <td>46</td>\n      <td>118</td>\n      <td>55</td>\n      <td>29</td>\n      <td>14</td>\n      <td>65</td>\n      <td>745</td>\n      <td>69</td>\n      <td>39</td>\n      <td>217</td>\n      <td>68</td>\n      <td>11</td>\n      <td>17</td>\n      <td>11</td>\n      <td>5</td>\n    </tr>\n    <tr>\n      <th>65</th>\n      <td>3月总计无症状</td>\n      <td>35096</td>\n      <td>715</td>\n      <td>1478</td>\n      <td>3099</td>\n      <td>965</td>\n      <td>517</td>\n      <td>562</td>\n      <td>707</td>\n      <td>13726</td>\n      <td>1916</td>\n      <td>1338</td>\n      <td>5958</td>\n      <td>1768</td>\n      <td>482</td>\n      <td>747</td>\n      <td>225</td>\n      <td>891</td>\n    </tr>\n  </tbody>\n</table>\n<p>64 rows × 18 columns</p>\n</div>"
     },
     "execution_count": 139,
     "metadata": {},
     "output_type": "execute_result"
    }
   ],
   "source": [
    "import pandas as pd\n",
    "import requests\n",
    "\n",
    "headers = {\n",
    "    'User-Agent': 'Mozilla/5.0 (Windows NT 6.1; WOW64) AppleWebKit/537.36 (KHTML, like Gecko) Chrome/66.0.3359.181 Safari/537.36'\n",
    "}\n",
    "url = 'http://m.sh.bendibao.com/news/249468.html'\n",
    "response = requests.get(url, headers=headers)\n",
    "html_doc = str(response.content, 'utf-8')\n",
    "df3 = pd.read_html(html_doc, encoding='utf-8')[0]\n",
    "df3 = df3.drop([0, len(df3) - 1]).fillna(value=0)\n",
    "df3.columns = df3.iloc[0]\n",
    "df3['时间'] = df3['时间'].map('3月{}'.format)\n",
    "df3['时间'] = df3['时间'] + df3['类型']\n",
    "df3 = df3.drop(labels='类型', axis=1)\n",
    "df3 = df3.drop([1])\n",
    "df3"
   ]
  },
  {
   "cell_type": "code",
   "execution_count": 140,
   "outputs": [
    {
     "data": {
      "text/plain": "1        时间      合计    普陀    黄浦    徐汇    静安    虹口    杨浦    长宁     浦东    嘉定  \\\n2    4月1日确诊     260    13     5    37    11     3    11     0     79     9   \n3   4月1日无症状    6051   232   255   602   178    58   123    37   2505   191   \n4    4月2日确诊     438    39    27    44    26    30    19     7    108    26   \n5   4月2日无症状    7788   349   632   998   298   312   255    93   1930   591   \n6    4月3日确诊     425    21    14    34    29    11    30    14    140    14   \n7   4月3日无症状    8581   300   810   465   309   177   344    90   3514   401   \n8    4月4日确诊     268     4     8     8     1     5    10     1    205     4   \n9   4月4日无症状   13086   250   962  1221    49   603   210    32   6866   233   \n10   4月5日确诊     311     7    16    23    12     8    11     6    162    11   \n11  4月5日无症状   16766   476   642   897   290   402   612    78   7983   470   \n12   4月6日确诊     322    27     9    19    27     1    12    31    151     6   \n13  4月6日无症状   19660  1006  1035  1088   518   667   618   319   8306  1402   \n14   4月总计确诊    3569   147   125   283   161    87   107   124   1590   139   \n15  4月总计无症状  107028  3328  5814  8370  2607  2736  2724  1356  44830  5204   \n\n1     松江     闵行    宝山    青浦    奉贤   金山    崇明  \n2     19     57    10     0     2    3     1  \n3    474    986    35    87   159   46    83  \n4      8     55    35     3     8    0     3  \n5    559    774   450   228   149   60   110  \n6      6     68    32     3     4    4     1  \n7    257    872   435   229   115   99   164  \n8      6     11     1     1     2    1     0  \n9    553   1370   264   313    62   51    47  \n10    14     23     7     6     2    1     2  \n11   782   2914   547   378   142   76    77  \n12     2     21     9     4     0    3     0  \n13   779   2388   651   466   278   76    63  \n14    94    452   162    28    35   23    12  \n15  4742  15262  4150  2183  1652  633  1435  ",
      "text/html": "<div>\n<style scoped>\n    .dataframe tbody tr th:only-of-type {\n        vertical-align: middle;\n    }\n\n    .dataframe tbody tr th {\n        vertical-align: top;\n    }\n\n    .dataframe thead th {\n        text-align: right;\n    }\n</style>\n<table border=\"1\" class=\"dataframe\">\n  <thead>\n    <tr style=\"text-align: right;\">\n      <th>1</th>\n      <th>时间</th>\n      <th>合计</th>\n      <th>普陀</th>\n      <th>黄浦</th>\n      <th>徐汇</th>\n      <th>静安</th>\n      <th>虹口</th>\n      <th>杨浦</th>\n      <th>长宁</th>\n      <th>浦东</th>\n      <th>嘉定</th>\n      <th>松江</th>\n      <th>闵行</th>\n      <th>宝山</th>\n      <th>青浦</th>\n      <th>奉贤</th>\n      <th>金山</th>\n      <th>崇明</th>\n    </tr>\n  </thead>\n  <tbody>\n    <tr>\n      <th>2</th>\n      <td>4月1日确诊</td>\n      <td>260</td>\n      <td>13</td>\n      <td>5</td>\n      <td>37</td>\n      <td>11</td>\n      <td>3</td>\n      <td>11</td>\n      <td>0</td>\n      <td>79</td>\n      <td>9</td>\n      <td>19</td>\n      <td>57</td>\n      <td>10</td>\n      <td>0</td>\n      <td>2</td>\n      <td>3</td>\n      <td>1</td>\n    </tr>\n    <tr>\n      <th>3</th>\n      <td>4月1日无症状</td>\n      <td>6051</td>\n      <td>232</td>\n      <td>255</td>\n      <td>602</td>\n      <td>178</td>\n      <td>58</td>\n      <td>123</td>\n      <td>37</td>\n      <td>2505</td>\n      <td>191</td>\n      <td>474</td>\n      <td>986</td>\n      <td>35</td>\n      <td>87</td>\n      <td>159</td>\n      <td>46</td>\n      <td>83</td>\n    </tr>\n    <tr>\n      <th>4</th>\n      <td>4月2日确诊</td>\n      <td>438</td>\n      <td>39</td>\n      <td>27</td>\n      <td>44</td>\n      <td>26</td>\n      <td>30</td>\n      <td>19</td>\n      <td>7</td>\n      <td>108</td>\n      <td>26</td>\n      <td>8</td>\n      <td>55</td>\n      <td>35</td>\n      <td>3</td>\n      <td>8</td>\n      <td>0</td>\n      <td>3</td>\n    </tr>\n    <tr>\n      <th>5</th>\n      <td>4月2日无症状</td>\n      <td>7788</td>\n      <td>349</td>\n      <td>632</td>\n      <td>998</td>\n      <td>298</td>\n      <td>312</td>\n      <td>255</td>\n      <td>93</td>\n      <td>1930</td>\n      <td>591</td>\n      <td>559</td>\n      <td>774</td>\n      <td>450</td>\n      <td>228</td>\n      <td>149</td>\n      <td>60</td>\n      <td>110</td>\n    </tr>\n    <tr>\n      <th>6</th>\n      <td>4月3日确诊</td>\n      <td>425</td>\n      <td>21</td>\n      <td>14</td>\n      <td>34</td>\n      <td>29</td>\n      <td>11</td>\n      <td>30</td>\n      <td>14</td>\n      <td>140</td>\n      <td>14</td>\n      <td>6</td>\n      <td>68</td>\n      <td>32</td>\n      <td>3</td>\n      <td>4</td>\n      <td>4</td>\n      <td>1</td>\n    </tr>\n    <tr>\n      <th>7</th>\n      <td>4月3日无症状</td>\n      <td>8581</td>\n      <td>300</td>\n      <td>810</td>\n      <td>465</td>\n      <td>309</td>\n      <td>177</td>\n      <td>344</td>\n      <td>90</td>\n      <td>3514</td>\n      <td>401</td>\n      <td>257</td>\n      <td>872</td>\n      <td>435</td>\n      <td>229</td>\n      <td>115</td>\n      <td>99</td>\n      <td>164</td>\n    </tr>\n    <tr>\n      <th>8</th>\n      <td>4月4日确诊</td>\n      <td>268</td>\n      <td>4</td>\n      <td>8</td>\n      <td>8</td>\n      <td>1</td>\n      <td>5</td>\n      <td>10</td>\n      <td>1</td>\n      <td>205</td>\n      <td>4</td>\n      <td>6</td>\n      <td>11</td>\n      <td>1</td>\n      <td>1</td>\n      <td>2</td>\n      <td>1</td>\n      <td>0</td>\n    </tr>\n    <tr>\n      <th>9</th>\n      <td>4月4日无症状</td>\n      <td>13086</td>\n      <td>250</td>\n      <td>962</td>\n      <td>1221</td>\n      <td>49</td>\n      <td>603</td>\n      <td>210</td>\n      <td>32</td>\n      <td>6866</td>\n      <td>233</td>\n      <td>553</td>\n      <td>1370</td>\n      <td>264</td>\n      <td>313</td>\n      <td>62</td>\n      <td>51</td>\n      <td>47</td>\n    </tr>\n    <tr>\n      <th>10</th>\n      <td>4月5日确诊</td>\n      <td>311</td>\n      <td>7</td>\n      <td>16</td>\n      <td>23</td>\n      <td>12</td>\n      <td>8</td>\n      <td>11</td>\n      <td>6</td>\n      <td>162</td>\n      <td>11</td>\n      <td>14</td>\n      <td>23</td>\n      <td>7</td>\n      <td>6</td>\n      <td>2</td>\n      <td>1</td>\n      <td>2</td>\n    </tr>\n    <tr>\n      <th>11</th>\n      <td>4月5日无症状</td>\n      <td>16766</td>\n      <td>476</td>\n      <td>642</td>\n      <td>897</td>\n      <td>290</td>\n      <td>402</td>\n      <td>612</td>\n      <td>78</td>\n      <td>7983</td>\n      <td>470</td>\n      <td>782</td>\n      <td>2914</td>\n      <td>547</td>\n      <td>378</td>\n      <td>142</td>\n      <td>76</td>\n      <td>77</td>\n    </tr>\n    <tr>\n      <th>12</th>\n      <td>4月6日确诊</td>\n      <td>322</td>\n      <td>27</td>\n      <td>9</td>\n      <td>19</td>\n      <td>27</td>\n      <td>1</td>\n      <td>12</td>\n      <td>31</td>\n      <td>151</td>\n      <td>6</td>\n      <td>2</td>\n      <td>21</td>\n      <td>9</td>\n      <td>4</td>\n      <td>0</td>\n      <td>3</td>\n      <td>0</td>\n    </tr>\n    <tr>\n      <th>13</th>\n      <td>4月6日无症状</td>\n      <td>19660</td>\n      <td>1006</td>\n      <td>1035</td>\n      <td>1088</td>\n      <td>518</td>\n      <td>667</td>\n      <td>618</td>\n      <td>319</td>\n      <td>8306</td>\n      <td>1402</td>\n      <td>779</td>\n      <td>2388</td>\n      <td>651</td>\n      <td>466</td>\n      <td>278</td>\n      <td>76</td>\n      <td>63</td>\n    </tr>\n    <tr>\n      <th>14</th>\n      <td>4月总计确诊</td>\n      <td>3569</td>\n      <td>147</td>\n      <td>125</td>\n      <td>283</td>\n      <td>161</td>\n      <td>87</td>\n      <td>107</td>\n      <td>124</td>\n      <td>1590</td>\n      <td>139</td>\n      <td>94</td>\n      <td>452</td>\n      <td>162</td>\n      <td>28</td>\n      <td>35</td>\n      <td>23</td>\n      <td>12</td>\n    </tr>\n    <tr>\n      <th>15</th>\n      <td>4月总计无症状</td>\n      <td>107028</td>\n      <td>3328</td>\n      <td>5814</td>\n      <td>8370</td>\n      <td>2607</td>\n      <td>2736</td>\n      <td>2724</td>\n      <td>1356</td>\n      <td>44830</td>\n      <td>5204</td>\n      <td>4742</td>\n      <td>15262</td>\n      <td>4150</td>\n      <td>2183</td>\n      <td>1652</td>\n      <td>633</td>\n      <td>1435</td>\n    </tr>\n  </tbody>\n</table>\n</div>"
     },
     "execution_count": 140,
     "metadata": {},
     "output_type": "execute_result"
    }
   ],
   "source": [
    "url1 = 'http://m.sh.bendibao.com/news/250518.html'\n",
    "response1 = requests.get(url1, headers=headers)\n",
    "html_doc1 = str(response1.content, 'utf-8')\n",
    "df4 = pd.read_html(html_doc1, encoding='utf-8')[0]\n",
    "df4 = df4.drop([0, len(df4) - 1]).fillna(value=0)\n",
    "df4.columns = df4.iloc[0]\n",
    "df4['时间'] = df4['时间'].map('4月{}'.format)\n",
    "df4['时间'] = df4['时间'] + df4['类型']\n",
    "df4 = df4.drop(labels='类型', axis=1)\n",
    "df4 = df4.drop([1])\n",
    "df4"
   ],
   "metadata": {
    "collapsed": false,
    "pycharm": {
     "name": "#%%\n"
    }
   }
  },
  {
   "cell_type": "code",
   "execution_count": 141,
   "outputs": [
    {
     "data": {
      "text/plain": "1        时间      合计    普陀    黄浦    徐汇    静安    虹口    杨浦    长宁     浦东    嘉定  \\\n0    3月1日确诊       1     1     0     0     0     0     0     0      0     0   \n1   3月1日无症状       1     0     0     0     0     0     0     0      0     1   \n2    3月2日确诊       3     3     0     0     0     0     0     0      0     0   \n3   3月2日无症状       5     3     0     0     0     0     0     0      0     1   \n4    3月3日确诊       2     0     0     0     0     0     0     0      0     0   \n..      ...     ...   ...   ...   ...   ...   ...   ...   ...    ...   ...   \n73  4月5日无症状   16766   476   642   897   290   402   612    78   7983   470   \n74   4月6日确诊     322    27     9    19    27     1    12    31    151     6   \n75  4月6日无症状   19660  1006  1035  1088   518   667   618   319   8306  1402   \n76   4月总计确诊    3569   147   125   283   161    87   107   124   1590   139   \n77  4月总计无症状  107028  3328  5814  8370  2607  2736  2724  1356  44830  5204   \n\n1     松江     闵行    宝山    青浦    奉贤   金山    崇明  \n0      0      0     0     0     0    0     0  \n1      0      0     0     0     0    0     0  \n2      0      0     0     0     0    0     0  \n3      0      0     1     0     0    0     0  \n4      1      1     0     0     0    0     0  \n..   ...    ...   ...   ...   ...  ...   ...  \n73   782   2914   547   378   142   76    77  \n74     2     21     9     4     0    3     0  \n75   779   2388   651   466   278   76    63  \n76    94    452   162    28    35   23    12  \n77  4742  15262  4150  2183  1652  633  1435  \n\n[78 rows x 18 columns]",
      "text/html": "<div>\n<style scoped>\n    .dataframe tbody tr th:only-of-type {\n        vertical-align: middle;\n    }\n\n    .dataframe tbody tr th {\n        vertical-align: top;\n    }\n\n    .dataframe thead th {\n        text-align: right;\n    }\n</style>\n<table border=\"1\" class=\"dataframe\">\n  <thead>\n    <tr style=\"text-align: right;\">\n      <th>1</th>\n      <th>时间</th>\n      <th>合计</th>\n      <th>普陀</th>\n      <th>黄浦</th>\n      <th>徐汇</th>\n      <th>静安</th>\n      <th>虹口</th>\n      <th>杨浦</th>\n      <th>长宁</th>\n      <th>浦东</th>\n      <th>嘉定</th>\n      <th>松江</th>\n      <th>闵行</th>\n      <th>宝山</th>\n      <th>青浦</th>\n      <th>奉贤</th>\n      <th>金山</th>\n      <th>崇明</th>\n    </tr>\n  </thead>\n  <tbody>\n    <tr>\n      <th>0</th>\n      <td>3月1日确诊</td>\n      <td>1</td>\n      <td>1</td>\n      <td>0</td>\n      <td>0</td>\n      <td>0</td>\n      <td>0</td>\n      <td>0</td>\n      <td>0</td>\n      <td>0</td>\n      <td>0</td>\n      <td>0</td>\n      <td>0</td>\n      <td>0</td>\n      <td>0</td>\n      <td>0</td>\n      <td>0</td>\n      <td>0</td>\n    </tr>\n    <tr>\n      <th>1</th>\n      <td>3月1日无症状</td>\n      <td>1</td>\n      <td>0</td>\n      <td>0</td>\n      <td>0</td>\n      <td>0</td>\n      <td>0</td>\n      <td>0</td>\n      <td>0</td>\n      <td>0</td>\n      <td>1</td>\n      <td>0</td>\n      <td>0</td>\n      <td>0</td>\n      <td>0</td>\n      <td>0</td>\n      <td>0</td>\n      <td>0</td>\n    </tr>\n    <tr>\n      <th>2</th>\n      <td>3月2日确诊</td>\n      <td>3</td>\n      <td>3</td>\n      <td>0</td>\n      <td>0</td>\n      <td>0</td>\n      <td>0</td>\n      <td>0</td>\n      <td>0</td>\n      <td>0</td>\n      <td>0</td>\n      <td>0</td>\n      <td>0</td>\n      <td>0</td>\n      <td>0</td>\n      <td>0</td>\n      <td>0</td>\n      <td>0</td>\n    </tr>\n    <tr>\n      <th>3</th>\n      <td>3月2日无症状</td>\n      <td>5</td>\n      <td>3</td>\n      <td>0</td>\n      <td>0</td>\n      <td>0</td>\n      <td>0</td>\n      <td>0</td>\n      <td>0</td>\n      <td>0</td>\n      <td>1</td>\n      <td>0</td>\n      <td>0</td>\n      <td>1</td>\n      <td>0</td>\n      <td>0</td>\n      <td>0</td>\n      <td>0</td>\n    </tr>\n    <tr>\n      <th>4</th>\n      <td>3月3日确诊</td>\n      <td>2</td>\n      <td>0</td>\n      <td>0</td>\n      <td>0</td>\n      <td>0</td>\n      <td>0</td>\n      <td>0</td>\n      <td>0</td>\n      <td>0</td>\n      <td>0</td>\n      <td>1</td>\n      <td>1</td>\n      <td>0</td>\n      <td>0</td>\n      <td>0</td>\n      <td>0</td>\n      <td>0</td>\n    </tr>\n    <tr>\n      <th>...</th>\n      <td>...</td>\n      <td>...</td>\n      <td>...</td>\n      <td>...</td>\n      <td>...</td>\n      <td>...</td>\n      <td>...</td>\n      <td>...</td>\n      <td>...</td>\n      <td>...</td>\n      <td>...</td>\n      <td>...</td>\n      <td>...</td>\n      <td>...</td>\n      <td>...</td>\n      <td>...</td>\n      <td>...</td>\n      <td>...</td>\n    </tr>\n    <tr>\n      <th>73</th>\n      <td>4月5日无症状</td>\n      <td>16766</td>\n      <td>476</td>\n      <td>642</td>\n      <td>897</td>\n      <td>290</td>\n      <td>402</td>\n      <td>612</td>\n      <td>78</td>\n      <td>7983</td>\n      <td>470</td>\n      <td>782</td>\n      <td>2914</td>\n      <td>547</td>\n      <td>378</td>\n      <td>142</td>\n      <td>76</td>\n      <td>77</td>\n    </tr>\n    <tr>\n      <th>74</th>\n      <td>4月6日确诊</td>\n      <td>322</td>\n      <td>27</td>\n      <td>9</td>\n      <td>19</td>\n      <td>27</td>\n      <td>1</td>\n      <td>12</td>\n      <td>31</td>\n      <td>151</td>\n      <td>6</td>\n      <td>2</td>\n      <td>21</td>\n      <td>9</td>\n      <td>4</td>\n      <td>0</td>\n      <td>3</td>\n      <td>0</td>\n    </tr>\n    <tr>\n      <th>75</th>\n      <td>4月6日无症状</td>\n      <td>19660</td>\n      <td>1006</td>\n      <td>1035</td>\n      <td>1088</td>\n      <td>518</td>\n      <td>667</td>\n      <td>618</td>\n      <td>319</td>\n      <td>8306</td>\n      <td>1402</td>\n      <td>779</td>\n      <td>2388</td>\n      <td>651</td>\n      <td>466</td>\n      <td>278</td>\n      <td>76</td>\n      <td>63</td>\n    </tr>\n    <tr>\n      <th>76</th>\n      <td>4月总计确诊</td>\n      <td>3569</td>\n      <td>147</td>\n      <td>125</td>\n      <td>283</td>\n      <td>161</td>\n      <td>87</td>\n      <td>107</td>\n      <td>124</td>\n      <td>1590</td>\n      <td>139</td>\n      <td>94</td>\n      <td>452</td>\n      <td>162</td>\n      <td>28</td>\n      <td>35</td>\n      <td>23</td>\n      <td>12</td>\n    </tr>\n    <tr>\n      <th>77</th>\n      <td>4月总计无症状</td>\n      <td>107028</td>\n      <td>3328</td>\n      <td>5814</td>\n      <td>8370</td>\n      <td>2607</td>\n      <td>2736</td>\n      <td>2724</td>\n      <td>1356</td>\n      <td>44830</td>\n      <td>5204</td>\n      <td>4742</td>\n      <td>15262</td>\n      <td>4150</td>\n      <td>2183</td>\n      <td>1652</td>\n      <td>633</td>\n      <td>1435</td>\n    </tr>\n  </tbody>\n</table>\n<p>78 rows × 18 columns</p>\n</div>"
     },
     "execution_count": 141,
     "metadata": {},
     "output_type": "execute_result"
    }
   ],
   "source": [
    "m = [df3, df4]\n",
    "df = pd.concat(m).reset_index(drop=True)\n",
    "df"
   ],
   "metadata": {
    "collapsed": false,
    "pycharm": {
     "name": "#%%\n"
    }
   }
  },
  {
   "cell_type": "code",
   "execution_count": 165,
   "outputs": [
    {
     "data": {
      "text/plain": "{'dates': ['3月1日确诊',\n  '3月1日无症状',\n  '3月2日确诊',\n  '3月2日无症状',\n  '3月3日确诊',\n  '3月3日无症状',\n  '3月4日确诊',\n  '3月4日无症状',\n  '3月5日确诊',\n  '3月5日无症状',\n  '3月6日确诊',\n  '3月6日无症状',\n  '3月7日确诊',\n  '3月7日无症状',\n  '3月8日确诊',\n  '3月8日无症状',\n  '3月9日确诊',\n  '3月9日无症状',\n  '3月10日确诊',\n  '3月10日无症状',\n  '3月11日确诊',\n  '3月11日无症状',\n  '3月12日确诊',\n  '3月12日无症状',\n  '3月13日确诊',\n  '3月13日无症状',\n  '3月14日确诊',\n  '3月14日无症状',\n  '3月15日确诊',\n  '3月15日无症状',\n  '3月16日确诊',\n  '3月16日无症状',\n  '3月17日确诊',\n  '3月17日无症状',\n  '3月18日确诊',\n  '3月18日无症状',\n  '3月19日确诊',\n  '3月19日无症状',\n  '3月20日确诊',\n  '3月20日无症状',\n  '3月21日确诊',\n  '3月21日无症状',\n  '3月22日确诊',\n  '3月22日无症状',\n  '3月23日确诊',\n  '3月23日无症状',\n  '3月24日确诊',\n  '3月24日无症状',\n  '3月25日确诊',\n  '3月25日无症状',\n  '3月26日确诊',\n  '3月26日无症状',\n  '3月27日确诊',\n  '3月27日无症状',\n  '3月28日确诊',\n  '3月28日无症状',\n  '3月29日确诊',\n  '3月29日无症状',\n  '3月30日确诊',\n  '3月30日无症状',\n  '3月31日确诊',\n  '3月31日无症状',\n  '3月总计确诊',\n  '3月总计无症状',\n  '4月1日确诊',\n  '4月1日无症状',\n  '4月2日确诊',\n  '4月2日无症状',\n  '4月3日确诊',\n  '4月3日无症状',\n  '4月4日确诊',\n  '4月4日无症状',\n  '4月5日确诊',\n  '4月5日无症状',\n  '4月6日确诊',\n  '4月6日无症状',\n  '4月总计确诊',\n  '4月总计无症状'],\n 'allData': ['1',\n  '1',\n  '3',\n  '5',\n  '2',\n  '14',\n  '3',\n  '16',\n  0,\n  '28',\n  '3',\n  '45',\n  '4',\n  '51',\n  '3',\n  '62',\n  '4',\n  '76',\n  '11',\n  '64',\n  '5',\n  '78',\n  '1',\n  '64',\n  '41',\n  '128',\n  '9',\n  '130',\n  '5',\n  '197',\n  '8',\n  '150',\n  '57',\n  '203',\n  '8',\n  '366',\n  '17',\n  '492',\n  '24',\n  '734',\n  '31',\n  '865',\n  '4',\n  '977',\n  '4',\n  '979',\n  '29',\n  '1580',\n  '38',\n  '2231',\n  '45',\n  '2631',\n  '50',\n  '3450',\n  '96',\n  '4381',\n  '326',\n  '5656',\n  '355',\n  '5298',\n  '358',\n  '4144',\n  '1545',\n  '35096',\n  '260',\n  '6051',\n  '438',\n  '7788',\n  '425',\n  '8581',\n  '268',\n  '13086',\n  '311',\n  '16766',\n  '322',\n  '19660',\n  '3569',\n  '107028'],\n 'putuo': ['1',\n  0,\n  '3',\n  '3',\n  0,\n  '9',\n  0,\n  '1',\n  0,\n  '1',\n  0,\n  '5',\n  '1',\n  0,\n  0,\n  '2',\n  0,\n  '1',\n  0,\n  '4',\n  0,\n  0,\n  0,\n  '1',\n  0,\n  '6',\n  0,\n  0,\n  0,\n  '9',\n  0,\n  '4',\n  '1',\n  '6',\n  0,\n  '23',\n  0,\n  '25',\n  0,\n  '18',\n  '1',\n  '30',\n  0,\n  '21',\n  0,\n  '34',\n  '2',\n  '36',\n  '1',\n  '8',\n  '1',\n  '68',\n  '4',\n  '66',\n  '3',\n  '78',\n  '6',\n  '107',\n  '6',\n  '140',\n  '6',\n  '9',\n  '36',\n  '715',\n  '13',\n  '232',\n  '39',\n  '349',\n  '21',\n  '300',\n  '4',\n  '250',\n  '7',\n  '476',\n  '27',\n  '1006',\n  '147',\n  '3328'],\n 'huangpu': [0,\n  0,\n  0,\n  0,\n  0,\n  0,\n  0,\n  '1',\n  0,\n  '1',\n  0,\n  '1',\n  0,\n  0,\n  0,\n  0,\n  0,\n  '2',\n  0,\n  '1',\n  0,\n  '3',\n  0,\n  '3',\n  '3',\n  '9',\n  '2',\n  '21',\n  0,\n  '12',\n  '1',\n  '8',\n  '7',\n  '12',\n  0,\n  '15',\n  0,\n  '36',\n  '2',\n  '40',\n  0,\n  '49',\n  0,\n  '59',\n  0,\n  '20',\n  0,\n  '102',\n  0,\n  '23',\n  0,\n  '160',\n  '1',\n  '55',\n  '1',\n  '282',\n  '6',\n  '104',\n  '16',\n  '345',\n  '7',\n  '114',\n  '46',\n  '1478',\n  '5',\n  '255',\n  '27',\n  '632',\n  '14',\n  '810',\n  '8',\n  '962',\n  '16',\n  '642',\n  '9',\n  '1035',\n  '125',\n  '5814'],\n 'xuhui': [0,\n  0,\n  0,\n  0,\n  0,\n  0,\n  0,\n  0,\n  0,\n  '3',\n  '2',\n  '2',\n  '3',\n  '10',\n  0,\n  '9',\n  0,\n  '6',\n  0,\n  '6',\n  0,\n  '10',\n  0,\n  '1',\n  '4',\n  '14',\n  '1',\n  '11',\n  '1',\n  '23',\n  '2',\n  '5',\n  '8',\n  '27',\n  '1',\n  '39',\n  0,\n  '61',\n  '1',\n  '45',\n  '4',\n  '126',\n  '2',\n  '85',\n  0,\n  '106',\n  '2',\n  '165',\n  '1',\n  '2',\n  '5',\n  '326',\n  '6',\n  '271',\n  '6',\n  '85',\n  '34',\n  '1066',\n  '15',\n  '389',\n  '20',\n  '206',\n  '118',\n  '3099',\n  '37',\n  '602',\n  '44',\n  '998',\n  '34',\n  '465',\n  '8',\n  '1221',\n  '23',\n  '897',\n  '19',\n  '1088',\n  '283',\n  '8370'],\n 'jingan': [0,\n  0,\n  0,\n  0,\n  0,\n  0,\n  0,\n  0,\n  0,\n  0,\n  0,\n  '1',\n  0,\n  0,\n  '1',\n  '1',\n  '1',\n  '3',\n  0,\n  '2',\n  0,\n  '3',\n  0,\n  '1',\n  '6',\n  '4',\n  0,\n  '6',\n  0,\n  '10',\n  0,\n  '3',\n  '1',\n  '3',\n  0,\n  '12',\n  0,\n  '15',\n  0,\n  '32',\n  0,\n  '44',\n  0,\n  '28',\n  0,\n  '48',\n  '8',\n  '62',\n  0,\n  '2',\n  '3',\n  '105',\n  '5',\n  '65',\n  '10',\n  '94',\n  '8',\n  '167',\n  '8',\n  '94',\n  '4',\n  '160',\n  '55',\n  '965',\n  '11',\n  '178',\n  '26',\n  '298',\n  '29',\n  '309',\n  '1',\n  '49',\n  '12',\n  '290',\n  '27',\n  '518',\n  '161',\n  '2607'],\n 'hongkou': [0,\n  0,\n  0,\n  0,\n  0,\n  0,\n  0,\n  0,\n  0,\n  0,\n  0,\n  0,\n  0,\n  '1',\n  0,\n  0,\n  '1',\n  '1',\n  '2',\n  '4',\n  0,\n  '3',\n  0,\n  0,\n  '1',\n  '3',\n  '1',\n  '3',\n  0,\n  '6',\n  0,\n  '10',\n  '1',\n  '6',\n  0,\n  '19',\n  '1',\n  '6',\n  0,\n  '12',\n  0,\n  '23',\n  0,\n  '13',\n  0,\n  '26',\n  0,\n  '29',\n  0,\n  '4',\n  '1',\n  '49',\n  '1',\n  '26',\n  '4',\n  '4',\n  '7',\n  '66',\n  '1',\n  '83',\n  '8',\n  '120',\n  '29',\n  '517',\n  '3',\n  '58',\n  '30',\n  '312',\n  '11',\n  '177',\n  '5',\n  '603',\n  '8',\n  '402',\n  '1',\n  '667',\n  '87',\n  '2736'],\n 'yangpu': [0,\n  0,\n  0,\n  0,\n  0,\n  0,\n  0,\n  0,\n  0,\n  0,\n  0,\n  0,\n  0,\n  0,\n  0,\n  0,\n  0,\n  '2',\n  0,\n  0,\n  0,\n  0,\n  0,\n  0,\n  0,\n  '3',\n  0,\n  '1',\n  0,\n  '2',\n  0,\n  '2',\n  0,\n  '2',\n  0,\n  '8',\n  0,\n  '14',\n  0,\n  '8',\n  0,\n  '10',\n  0,\n  '3',\n  0,\n  '11',\n  '1',\n  '20',\n  0,\n  '11',\n  '2',\n  '21',\n  0,\n  '35',\n  0,\n  '47',\n  '3',\n  '96',\n  '3',\n  '97',\n  '5',\n  '169',\n  '14',\n  '562',\n  '11',\n  '123',\n  '19',\n  '255',\n  '30',\n  '344',\n  '10',\n  '210',\n  '11',\n  '612',\n  '12',\n  '618',\n  '107',\n  '2724'],\n 'changning': [0,\n  0,\n  0,\n  0,\n  0,\n  0,\n  0,\n  0,\n  0,\n  0,\n  0,\n  0,\n  0,\n  0,\n  0,\n  '1',\n  0,\n  '1',\n  0,\n  '1',\n  0,\n  '1',\n  0,\n  '2',\n  '1',\n  '1',\n  0,\n  '1',\n  0,\n  '4',\n  0,\n  '4',\n  0,\n  '1',\n  0,\n  '7',\n  0,\n  '12',\n  '1',\n  '12',\n  0,\n  '26',\n  0,\n  '19',\n  0,\n  '11',\n  0,\n  '59',\n  0,\n  '4',\n  '2',\n  '27',\n  0,\n  '45',\n  '7',\n  '108',\n  '3',\n  '27',\n  '8',\n  '120',\n  '43',\n  '213',\n  '65',\n  '707',\n  0,\n  '37',\n  '7',\n  '93',\n  '14',\n  '90',\n  '1',\n  '32',\n  '6',\n  '78',\n  '31',\n  '319',\n  '124',\n  '1356'],\n 'pudong': [0,\n  0,\n  0,\n  0,\n  0,\n  0,\n  0,\n  0,\n  0,\n  '2',\n  '1',\n  '2',\n  0,\n  '4',\n  0,\n  '3',\n  '1',\n  '9',\n  '4',\n  '6',\n  '2',\n  '9',\n  0,\n  '35',\n  '7',\n  '34',\n  '1',\n  '22',\n  '2',\n  '40',\n  0,\n  '43',\n  '25',\n  '11',\n  '2',\n  '65',\n  '8',\n  '127',\n  '1',\n  '219',\n  '6',\n  '163',\n  0,\n  '237',\n  0,\n  '218',\n  '12',\n  '181',\n  '31',\n  '1883',\n  '1',\n  '322',\n  '4',\n  '1425',\n  '39',\n  '2467',\n  '169',\n  '2014',\n  '249',\n  '1958',\n  '180',\n  '2227',\n  '745',\n  '13726',\n  '79',\n  '2505',\n  '108',\n  '1930',\n  '140',\n  '3514',\n  '205',\n  '6866',\n  '162',\n  '7983',\n  '151',\n  '8306',\n  '1590',\n  '44830'],\n 'jiading': [0,\n  '1',\n  0,\n  '1',\n  0,\n  0,\n  '2',\n  '5',\n  0,\n  '4',\n  0,\n  '13',\n  0,\n  '12',\n  '1',\n  '7',\n  0,\n  '16',\n  '1',\n  '3',\n  0,\n  '11',\n  0,\n  '3',\n  '5',\n  '14',\n  0,\n  '24',\n  0,\n  '21',\n  '4',\n  '36',\n  '5',\n  '30',\n  0,\n  '44',\n  '2',\n  '79',\n  '1',\n  '39',\n  '5',\n  '98',\n  '2',\n  '109',\n  '1',\n  '68',\n  '1',\n  '129',\n  0,\n  '19',\n  '9',\n  '233',\n  '3',\n  '248',\n  '2',\n  '207',\n  '9',\n  '246',\n  '9',\n  '149',\n  '7',\n  '47',\n  '69',\n  '1916',\n  '9',\n  '191',\n  '26',\n  '591',\n  '14',\n  '401',\n  '4',\n  '233',\n  '11',\n  '470',\n  '6',\n  '1402',\n  '139',\n  '5204'],\n 'songjiang': [0,\n  0,\n  0,\n  0,\n  '1',\n  '3',\n  0,\n  '6',\n  0,\n  '7',\n  0,\n  '6',\n  0,\n  '4',\n  0,\n  '14',\n  0,\n  '9',\n  0,\n  '9',\n  0,\n  '5',\n  0,\n  '1',\n  '1',\n  '7',\n  '1',\n  '9',\n  0,\n  '10',\n  0,\n  '4',\n  0,\n  '10',\n  '1',\n  '12',\n  0,\n  '16',\n  0,\n  '9',\n  '1',\n  '38',\n  0,\n  '31',\n  0,\n  '34',\n  0,\n  '92',\n  '1',\n  '14',\n  0,\n  '79',\n  '1',\n  '189',\n  '4',\n  '90',\n  '15',\n  '213',\n  '8',\n  '238',\n  '5',\n  '179',\n  '39',\n  '1338',\n  '19',\n  '474',\n  '8',\n  '559',\n  '6',\n  '257',\n  '6',\n  '553',\n  '14',\n  '782',\n  '2',\n  '779',\n  '94',\n  '4742'],\n 'minghang': [0,\n  0,\n  0,\n  0,\n  '1',\n  0,\n  '1',\n  0,\n  0,\n  '6',\n  0,\n  '7',\n  0,\n  '13',\n  '1',\n  '11',\n  '1',\n  '23',\n  '2',\n  '13',\n  '2',\n  '19',\n  '1',\n  '10',\n  '9',\n  '21',\n  '3',\n  '23',\n  '1',\n  '30',\n  '1',\n  '17',\n  '4',\n  '79',\n  '1',\n  '58',\n  '4',\n  '49',\n  '18',\n  '247',\n  '10',\n  '112',\n  0,\n  '305',\n  '2',\n  '254',\n  0,\n  '490',\n  '4',\n  '202',\n  '15',\n  '957',\n  '20',\n  '599',\n  '9',\n  '361',\n  '29',\n  '958',\n  '19',\n  '761',\n  '59',\n  '333',\n  '217',\n  '5958',\n  '57',\n  '986',\n  '55',\n  '774',\n  '68',\n  '872',\n  '11',\n  '1370',\n  '23',\n  '2914',\n  '21',\n  '2388',\n  '452',\n  '15262'],\n 'baoshan': [0,\n  0,\n  0,\n  '1',\n  0,\n  '2',\n  0,\n  '1',\n  0,\n  '2',\n  0,\n  '6',\n  0,\n  '6',\n  0,\n  '11',\n  0,\n  '2',\n  0,\n  '11',\n  '1',\n  '7',\n  0,\n  '3',\n  0,\n  '3',\n  0,\n  '2',\n  0,\n  '11',\n  0,\n  '11',\n  '5',\n  '9',\n  '1',\n  '26',\n  '1',\n  '16',\n  0,\n  '13',\n  0,\n  '67',\n  0,\n  '16',\n  0,\n  '69',\n  '3',\n  '84',\n  0,\n  '4',\n  '6',\n  '147',\n  '5',\n  '89',\n  '8',\n  '303',\n  '33',\n  '330',\n  '1',\n  '503',\n  '4',\n  '13',\n  '68',\n  '1768',\n  '10',\n  '35',\n  '35',\n  '450',\n  '32',\n  '435',\n  '1',\n  '264',\n  '7',\n  '547',\n  '9',\n  '651',\n  '162',\n  '4150'],\n 'qingpu': [0,\n  0,\n  0,\n  0,\n  0,\n  0,\n  0,\n  '2',\n  0,\n  '1',\n  0,\n  0,\n  0,\n  0,\n  0,\n  '3',\n  0,\n  0,\n  '1',\n  '4',\n  0,\n  '2',\n  0,\n  0,\n  '2',\n  '2',\n  0,\n  0,\n  0,\n  '7',\n  0,\n  '1',\n  0,\n  '1',\n  0,\n  '16',\n  0,\n  '5',\n  0,\n  '4',\n  0,\n  '5',\n  0,\n  '20',\n  0,\n  '10',\n  0,\n  '13',\n  0,\n  '13',\n  0,\n  '22',\n  0,\n  '43',\n  '2',\n  '55',\n  0,\n  '87',\n  '5',\n  '72',\n  '1',\n  '94',\n  '11',\n  '482',\n  0,\n  '87',\n  '3',\n  '228',\n  '3',\n  '229',\n  '1',\n  '313',\n  '6',\n  '378',\n  '4',\n  '466',\n  '28',\n  '2183'],\n 'fengxian': [0,\n  0,\n  0,\n  0,\n  0,\n  0,\n  0,\n  0,\n  0,\n  '1',\n  0,\n  '2',\n  0,\n  0,\n  0,\n  0,\n  0,\n  '1',\n  0,\n  0,\n  0,\n  '1',\n  0,\n  0,\n  '1',\n  '1',\n  0,\n  '3',\n  '1',\n  '4',\n  0,\n  '2',\n  0,\n  '2',\n  0,\n  '7',\n  0,\n  '6',\n  0,\n  '13',\n  '1',\n  '21',\n  0,\n  '8',\n  '1',\n  '11',\n  0,\n  '24',\n  0,\n  0,\n  0,\n  '84',\n  0,\n  '45',\n  0,\n  '115',\n  '1',\n  '95',\n  '7',\n  '123',\n  '5',\n  '178',\n  '17',\n  '747',\n  '2',\n  '159',\n  '8',\n  '149',\n  '4',\n  '115',\n  '2',\n  '62',\n  '2',\n  '142',\n  '0',\n  '278',\n  '35',\n  '1652'],\n 'jinshan': [0,\n  0,\n  0,\n  0,\n  0,\n  0,\n  0,\n  0,\n  0,\n  0,\n  0,\n  0,\n  0,\n  '1',\n  0,\n  0,\n  0,\n  0,\n  '1',\n  0,\n  0,\n  '4',\n  0,\n  '4',\n  '1',\n  '6',\n  0,\n  '4',\n  0,\n  '8',\n  0,\n  0,\n  0,\n  '1',\n  '2',\n  '15',\n  0,\n  '3',\n  0,\n  '11',\n  '1',\n  '15',\n  0,\n  '4',\n  0,\n  '5',\n  0,\n  '12',\n  0,\n  '1',\n  0,\n  '4',\n  0,\n  '13',\n  '1',\n  '18',\n  '2',\n  '24',\n  0,\n  '33',\n  '3',\n  '39',\n  '11',\n  '225',\n  '3',\n  '46',\n  0,\n  '60',\n  '4',\n  '99',\n  '1',\n  '51',\n  '1',\n  '76',\n  '3',\n  '76',\n  '23',\n  '633'],\n 'chongming': [0,\n  0,\n  0,\n  0,\n  0,\n  0,\n  0,\n  0,\n  0,\n  0,\n  0,\n  0,\n  0,\n  0,\n  0,\n  0,\n  0,\n  0,\n  0,\n  0,\n  0,\n  0,\n  0,\n  0,\n  0,\n  0,\n  0,\n  0,\n  0,\n  0,\n  0,\n  0,\n  0,\n  '3',\n  0,\n  0,\n  '1',\n  '22',\n  0,\n  '12',\n  '2',\n  '38',\n  0,\n  '19',\n  0,\n  '54',\n  0,\n  '82',\n  0,\n  '41',\n  0,\n  '27',\n  0,\n  '236',\n  0,\n  '67',\n  '1',\n  '54',\n  0,\n  '193',\n  '1',\n  '43',\n  '5',\n  '891',\n  '1',\n  '83',\n  '3',\n  '110',\n  '1',\n  '164',\n  0,\n  '47',\n  '2',\n  '77',\n  '0',\n  '63',\n  '12',\n  '1435']}"
     },
     "execution_count": 165,
     "metadata": {},
     "output_type": "execute_result"
    }
   ],
   "source": [
    "def loopData(locals):\n",
    "    arr = []\n",
    "    for local in locals:\n",
    "        arr.append(local)\n",
    "    return arr\n",
    "\n",
    "result = {}\n",
    "result.update({'dates': loopData(df['时间'])})\n",
    "result.update({'allData': loopData(df['合计'])})\n",
    "result.update({'putuo': loopData(df['普陀'])})\n",
    "result.update({'huangpu': loopData(df['黄浦'])})\n",
    "result.update({'xuhui': loopData(df['徐汇'])})\n",
    "result.update({'jingan': loopData(df['静安'])})\n",
    "result.update({'hongkou': loopData(df['虹口'])})\n",
    "result.update({'yangpu': loopData(df['杨浦'])})\n",
    "result.update({'changning': loopData(df['长宁'])})\n",
    "result.update({'pudong': loopData(df['浦东'])})\n",
    "result.update({'jiading': loopData(df['嘉定'])})\n",
    "result.update({'songjiang': loopData(df['松江'])})\n",
    "result.update({'minghang': loopData(df['闵行'])})\n",
    "result.update({'baoshan': loopData(df['宝山'])})\n",
    "result.update({'qingpu': loopData(df['青浦'])})\n",
    "result.update({'fengxian': loopData(df['奉贤'])})\n",
    "result.update({'jinshan': loopData(df['金山'])})\n",
    "result.update({'chongming': loopData(df['崇明'])})\n",
    "\n",
    "\n",
    "result\n"
   ],
   "metadata": {
    "collapsed": false,
    "pycharm": {
     "name": "#%%\n"
    }
   }
  },
  {
   "cell_type": "code",
   "execution_count": 169,
   "outputs": [],
   "source": [
    "from jinja2 import Environment, FileSystemLoader\n",
    "\n",
    "\n",
    "def generate_html(data):\n",
    "    env = Environment(loader=FileSystemLoader('./'))  # 加载模板\n",
    "    template = env.get_template('index.html')\n",
    "    # template.stream(body).dump('result.html', 'utf-8')\n",
    "\n",
    "    with open(\"result.html\", 'w') as fout:\n",
    "        html_content = template.render(data)\n",
    "        fout.write(html_content)  #  写入模板 生成html\n",
    "\n",
    "\n",
    "generate_html(result)"
   ],
   "metadata": {
    "collapsed": false,
    "pycharm": {
     "name": "#%%\n"
    }
   }
  },
  {
   "cell_type": "code",
   "execution_count": null,
   "outputs": [],
   "source": [],
   "metadata": {
    "collapsed": false,
    "pycharm": {
     "name": "#%%\n"
    }
   }
  }
 ],
 "metadata": {
  "kernelspec": {
   "display_name": "Python 3",
   "language": "python",
   "name": "python3"
  },
  "language_info": {
   "codemirror_mode": {
    "name": "ipython",
    "version": 2
   },
   "file_extension": ".py",
   "mimetype": "text/x-python",
   "name": "python",
   "nbconvert_exporter": "python",
   "pygments_lexer": "ipython2",
   "version": "2.7.6"
  }
 },
 "nbformat": 4,
 "nbformat_minor": 0
}